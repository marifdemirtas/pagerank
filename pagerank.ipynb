{
 "cells": [
  {
   "cell_type": "markdown",
   "metadata": {},
   "source": [
    "# PageRank Algorithm\n",
    "\n",
    "This notebook implements the PageRank algorithm, prepared as a homework in BLG202E - Numerical Methods in CE class at ITU, Spring 2020."
   ]
  },
  {
   "cell_type": "code",
   "execution_count": 2,
   "metadata": {
    "colab": {
     "base_uri": "https://localhost:8080/",
     "height": 176
    },
    "colab_type": "code",
    "id": "fYBTkT5J8in9",
    "outputId": "ec5fed49-2452-436d-b2ab-e4c438b9c9db"
   },
   "outputs": [
    {
     "name": "stdout",
     "output_type": "stream",
     "text": [
      "Defaulting to user installation because normal site-packages is not writeable\n",
      "Requirement already satisfied: mechanize in /home/marif/.local/lib/python3.6/site-packages (0.4.5)\n",
      "Requirement already satisfied: html5lib>=0.999999999 in /home/marif/.local/lib/python3.6/site-packages (from mechanize) (1.0.1)\n",
      "Requirement already satisfied: six>=1.9 in /home/marif/.local/lib/python3.6/site-packages (from html5lib>=0.999999999->mechanize) (1.14.0)\n",
      "Requirement already satisfied: webencodings in /home/marif/.local/lib/python3.6/site-packages (from html5lib>=0.999999999->mechanize) (0.5.1)\n"
     ]
    }
   ],
   "source": [
    "!pip install mechanize"
   ]
  },
  {
   "cell_type": "code",
   "execution_count": 2,
   "metadata": {
    "colab": {},
    "colab_type": "code",
    "id": "cwIj_ZBv39MR"
   },
   "outputs": [],
   "source": [
    "import numpy as np #For arrays and linear algebra routines\n",
    "from mechanize import Browser #For getting the names of the papers from arXiv in part 3 results\n",
    "                              #Not necessary, but to use it, above cell must be run to install mechanize library "
   ]
  },
  {
   "cell_type": "code",
   "execution_count": 4,
   "metadata": {
    "colab": {},
    "colab_type": "code",
    "id": "tWMkDhMPDQd9"
   },
   "outputs": [],
   "source": [
    "eps = 1e-10"
   ]
  },
  {
   "cell_type": "markdown",
   "metadata": {
    "colab_type": "text",
    "id": "uLhPNLaCKk40"
   },
   "source": [
    "# Motivating Example: Academic Ranking System"
   ]
  },
  {
   "cell_type": "markdown",
   "metadata": {
    "colab_type": "text",
    "id": "PuZbcalze2qS"
   },
   "source": [
    "Our motivating example uses the paper citation network of Arxiv High Energy Physics Theory category. We will rank the papers by their influence. Data is represented as a directed graph, and we have the list of edges in a text file. We will start by loading the text file that contains the directed graph into a NumPy array."
   ]
  },
  {
   "cell_type": "code",
   "execution_count": 3,
   "metadata": {
    "colab": {},
    "colab_type": "code",
    "id": "LDlxfidc-_Y6"
   },
   "outputs": [],
   "source": [
    "array = np.genfromtxt(\"cit-HepTh.txt\", dtype=int)"
   ]
  },
  {
   "cell_type": "markdown",
   "metadata": {},
   "source": [
    "Let's see the first 10 edges."
   ]
  },
  {
   "cell_type": "code",
   "execution_count": 4,
   "metadata": {
    "colab": {
     "base_uri": "https://localhost:8080/",
     "height": 191
    },
    "colab_type": "code",
    "id": "2rXG_IUoPA5t",
    "outputId": "59d07922-908b-4612-efab-34bf27bdb52e"
   },
   "outputs": [
    {
     "name": "stdout",
     "output_type": "stream",
     "text": [
      "[[   1001 9304045]\n",
      " [   1001 9308122]\n",
      " [   1001 9309097]\n",
      " [   1001 9311042]\n",
      " [   1001 9401139]\n",
      " [   1001 9404151]\n",
      " [   1001 9407087]\n",
      " [   1001 9408099]\n",
      " [   1001 9501030]\n",
      " [   1001 9503124]]\n"
     ]
    }
   ],
   "source": [
    "print(array[0:10])"
   ]
  },
  {
   "cell_type": "markdown",
   "metadata": {
    "colab_type": "text",
    "id": "Z-ui2WbNZtwM"
   },
   "source": [
    "We will create a transition matrix from the list that contains links between the nodes of the graph. A transition matrix shows transitions from nodes to other nodes and the probability that transition happens.\n",
    "\n",
    "These weights or normalization factors are calculated by taking $\\frac{1}{\\textrm{(no of outgoing links from that node)}}$. Following code will define a function with parameter **arr**: multidimensional array of edges, and returns **labels**: array consisting of distinct nodes and **weights**: a dictionary that maps these nodes to their weights."
   ]
  },
  {
   "cell_type": "code",
   "execution_count": 5,
   "metadata": {
    "colab": {},
    "colab_type": "code",
    "id": "u43R9iSoBVdx"
   },
   "outputs": [],
   "source": [
    "def createWeights(arr):\n",
    "    labels, counts = np.unique(arr[:,0], return_counts=True) ##Finds the unique entries in first column, returns their values \n",
    "                                                              #and their counts to calculate weights\n",
    "    weight_dict = dict()\n",
    "    for index, label in enumerate(labels):                   ##Creates a dictionary that holds the normalization factor,\n",
    "        weight_dict[label] = 1 / counts[index]               # 1/(number of outgoing links) for every paper ID in labels\n",
    "\n",
    "    return labels, weight_dict"
   ]
  },
  {
   "cell_type": "code",
   "execution_count": 6,
   "metadata": {
    "colab": {},
    "colab_type": "code",
    "id": "8gc1iT8TGB0Q"
   },
   "outputs": [],
   "source": [
    "labels, weights = createWeights(array)"
   ]
  },
  {
   "cell_type": "markdown",
   "metadata": {
    "colab_type": "text",
    "id": "VkYmJv7lhTLy"
   },
   "source": [
    "Following code will initialize transition matrix, finds the cells that represent transitions using a for loop that examines each node and links from that node, and fills in the cell with the weight specified in weights dictionary created above."
   ]
  },
  {
   "cell_type": "code",
   "execution_count": 7,
   "metadata": {
    "colab": {},
    "colab_type": "code",
    "id": "A90CJVaWd3Pc"
   },
   "outputs": [],
   "source": [
    "def createTransitionMatrix(arr, labels, weight_dict):\n",
    "    transitionMatrix = np.zeros((labels.size,labels.size))\n",
    "    \n",
    "    for i, label in enumerate(labels):\n",
    "        links_from_label = arr[np.nonzero(label == arr[:,0]),1][0]\n",
    "      #  if links_from_label.shape == (0,):                          ##For dangling nodes, nodes that have no outgoing links\n",
    "      #      weight_dict[label] = 1 / labels.size                     \n",
    "      #      links_to_label = labels                                  \n",
    "        transitionMatrix[np.searchsorted(labels, links_from_label),i] = weight_dict[label]\n",
    "    \n",
    "    return transitionMatrix"
   ]
  },
  {
   "cell_type": "code",
   "execution_count": 8,
   "metadata": {
    "colab": {},
    "colab_type": "code",
    "id": "d5rPMwXvHpzP"
   },
   "outputs": [],
   "source": [
    "rankMatrix = createTransitionMatrix(array, labels, weights)"
   ]
  },
  {
   "cell_type": "markdown",
   "metadata": {
    "colab_type": "text",
    "id": "UyExQdMCS7Mt"
   },
   "source": [
    "We expect our transition matrix to be column-stochastic, and we also expect it to be a sparse matrix it is mostly populated by zeros. Operations on sparse matrices can be done by some faster methods, so sparsity is an advantage in speed.\n",
    "\n",
    "Now we will define and run two functions to test these attributes of our matrix. Results will show that our expectations hold."
   ]
  },
  {
   "cell_type": "code",
   "execution_count": 9,
   "metadata": {
    "colab": {},
    "colab_type": "code",
    "id": "YeangX8_DF-u"
   },
   "outputs": [],
   "source": [
    "def checkStochastic(matrix):\n",
    "    eps = 1e-10\n",
    "    print(\"Sums of columns that do not add to 1 in a reasonable error margin {} will be shown.\".format(eps))\n",
    "    for i in matrix.sum(0):\n",
    "        if not (i - 1 < eps):\n",
    "            print(i)\n",
    "    print(\"Calculation finished, average value of sums of all columns is {}.\".format(np.mean(matrix.sum(0))))\n",
    "\n",
    "def checkSparsity(matrix):\n",
    "    zeros = np.count_nonzero(matrix==0)\n",
    "    elements = matrix.size\n",
    "    sparse_rate = np.divide(zeros,elements)\n",
    "    print(\"There are {} elements in total, {} of them are zero.\".format(elements, zeros))\n",
    "    print(\"Sparsity rate of this matrix is %{}\".format(sparse_rate*100))\n",
    "    return sparse_rate"
   ]
  },
  {
   "cell_type": "code",
   "execution_count": 10,
   "metadata": {
    "colab": {
     "base_uri": "https://localhost:8080/",
     "height": 86
    },
    "colab_type": "code",
    "id": "srhSR5oGFxRz",
    "outputId": "071337ef-a4c8-4a6a-e8a2-ad8ca3176b60"
   },
   "outputs": [
    {
     "name": "stdout",
     "output_type": "stream",
     "text": [
      "Sums of columns that do not add to 1 in a reasonable error margin 1e-10 will be shown.\n",
      "Calculation finished, average value of sums of all columns is 0.9958169865008099.\n",
      "There are 627953481 elements in total, 627601470 of them are zero.\n",
      "Sparsity rate of this matrix is %99.94394314059069\n"
     ]
    }
   ],
   "source": [
    "checkStochastic(rankMatrix)\n",
    "sparsity = checkSparsity(rankMatrix)"
   ]
  },
  {
   "cell_type": "markdown",
   "metadata": {
    "colab_type": "text",
    "id": "CX-VbFk7tN9w"
   },
   "source": [
    "\n",
    "---\n",
    "Now that we have the required matrix, we can solve the equation\n",
    "\\begin{equation}\n",
    "A x = x\n",
    "\\end{equation}\n",
    "where A is the matrix, and x is the result vector that contains the rank. We will solve this by **power method**, by repeatedly multiplying an arbitrary vector* by our matrix until the difference in resulting vectors of two iterations is smaller than epsilon.\n",
    "\n",
    "*While any arbitrary vector should work, it is better practice to use an all ones vector normalized by the size of itself, so initially every rank is equal and vector sums up to one. We will follow this practice."
   ]
  },
  {
   "cell_type": "code",
   "execution_count": 11,
   "metadata": {
    "colab": {},
    "colab_type": "code",
    "id": "KcM23deamSfw"
   },
   "outputs": [],
   "source": [
    "def solveRank(rankMatrix):\n",
    "    eps = 1e-7\n",
    "    v0 = np.ones(rankMatrix.shape[0]) / rankMatrix.shape[0]\n",
    "#   v0 = np.random.random(rankMatrix.shape[0] / rankMatrix.shape[0])\n",
    "\n",
    "    counter = 1\n",
    "    while True:\n",
    "        v = np.dot(rankMatrix, v0)\n",
    "        v = v / np.linalg.norm(v)\n",
    "        if (np.mean(np.abs(np.subtract(v,v0))) < 2*eps):\n",
    "            break\n",
    "        \n",
    "#        print(\"Error: {}\".format(np.mean(np.abs(np.subtract(v,v0)))))   ##Uncomment this line to print error in each step\n",
    "                                                                          #If this function is taking too long, printing the error may be a good idea for debugging\n",
    "        counter += 1\n",
    "        v0 = v\n",
    "    \n",
    "    print(\"Appropriate vector found in {} iterations, final difference between two iteration result vectors was less than {}.\".format(counter,eps))\n",
    "    return v"
   ]
  },
  {
   "cell_type": "code",
   "execution_count": 12,
   "metadata": {
    "colab": {
     "base_uri": "https://localhost:8080/",
     "height": 34
    },
    "colab_type": "code",
    "id": "fPRe7W1HKKpN",
    "outputId": "c7060a85-64cc-4d54-ad02-1a7e866aab57"
   },
   "outputs": [
    {
     "name": "stdout",
     "output_type": "stream",
     "text": [
      "Appropriate vector found in 80 iterations, final difference between two iteration result vectors was less than 1e-07.\n"
     ]
    }
   ],
   "source": [
    "final = solveRank(rankMatrix)"
   ]
  },
  {
   "cell_type": "markdown",
   "metadata": {
    "colab_type": "text",
    "id": "cekeEzjpugdC"
   },
   "source": [
    "Finally, we will rank our papers according to the resulting vector, and show the first 10 papers."
   ]
  },
  {
   "cell_type": "code",
   "execution_count": 13,
   "metadata": {
    "colab": {},
    "colab_type": "code",
    "id": "WcQXBq3NsFeH"
   },
   "outputs": [],
   "source": [
    "def rankPagesDescending(labels, final):\n",
    "    return labels[final.argsort()][::-1]"
   ]
  },
  {
   "cell_type": "code",
   "execution_count": 14,
   "metadata": {
    "colab": {
     "base_uri": "https://localhost:8080/",
     "height": 52
    },
    "colab_type": "code",
    "id": "VtXToaFIaG6e",
    "outputId": "89f75252-a74b-482b-fa4b-dab042c61ad4"
   },
   "outputs": [
    {
     "data": {
      "text/plain": [
       "array([9201015, 9207016, 9206003,  209015, 9205071, 9202067, 9201047,\n",
       "       9205038, 9202018, 9205006])"
      ]
     },
     "execution_count": 14,
     "metadata": {},
     "output_type": "execute_result"
    }
   ],
   "source": [
    "rankPagesDescending(labels, final)[0:10]"
   ]
  },
  {
   "cell_type": "markdown",
   "metadata": {},
   "source": [
    "Using the mechanize library, we can collect the information on these papers."
   ]
  },
  {
   "cell_type": "code",
   "execution_count": 15,
   "metadata": {
    "colab": {
     "base_uri": "https://localhost:8080/",
     "height": 538
    },
    "colab_type": "code",
    "id": "GzRN6st5USC0",
    "outputId": "b7e32414-0f55-4893-bb51-8293a9b9029d"
   },
   "outputs": [
    {
     "name": "stdout",
     "output_type": "stream",
     "text": [
      "1. paper ID is 9201015.\n",
      "Name of the paper is: An Algorithm to Generate Classical Solutions for String Effective Action\n",
      "https://arxiv.org/abs/hep-th/9201015\n",
      "2. paper ID is 9207016.\n",
      "Name of the paper is: Noncompact Symmetries in String Theory\n",
      "https://arxiv.org/abs/hep-th/9207016\n",
      "3. paper ID is 9206003.\n",
      "Name of the paper is: From Form Factors to Correlation Functions: The Ising Model\n",
      "https://arxiv.org/abs/hep-th/9206003\n",
      "4. paper ID is 209015.\n",
      "Name of the paper is: Advances in String Theory in Curved Space Times\n",
      "https://arxiv.org/abs/hep-th/0209015\n",
      "5. paper ID is 9205071.\n",
      "Name of the paper is: Novel Symmetry of Non-Einsteinian Gravity in Two Dimensions\n",
      "https://arxiv.org/abs/hep-th/9205071\n",
      "6. paper ID is 9202067.\n",
      "Name of the paper is: Stringy Domain Walls and Other Stringy Topological Defects\n",
      "https://arxiv.org/abs/hep-th/9202067\n",
      "7. paper ID is 9201047.\n",
      "Name of the paper is: Duality-Invariant Gaugino Condensation and One-Loop Corrected Kahler Potentials in String Theory\n",
      "https://arxiv.org/abs/hep-th/9201047\n",
      "8. paper ID is 9205038.\n",
      "Name of the paper is: Recent Developments in Classical and Quantum Theories of Connections, Including General Relativity\n",
      "https://arxiv.org/abs/hep-th/9205038\n",
      "9. paper ID is 9202018.\n",
      "Name of the paper is: Jones Polynomials for Intersecting Knots as Physical States of Quantum Gravity\n",
      "https://arxiv.org/abs/hep-th/9202018\n",
      "10. paper ID is 9205006.\n",
      "Name of the paper is: Stabilized Quantum Gravity: Stochastic Interpretation and Numerical Simulation\n",
      "https://arxiv.org/abs/hep-th/9205006\n"
     ]
    }
   ],
   "source": [
    "ranking = rankPagesDescending(labels, final)\n",
    "br = Browser()\n",
    "\n",
    "for index,paper_id in enumerate(ranking[0:10]):\n",
    "    str_id = str(paper_id)\n",
    "    page_url = \"https://arxiv.org/abs/hep-th/\"\n",
    "    while(len(str_id) < 7):\n",
    "        str_id = '0' + str_id\n",
    "    page_url += str_id\n",
    "    br.open(page_url)\n",
    "    paper_title = br.title()[17:]\n",
    "    print(\"{}. paper ID is {}.\".format(index + 1, paper_id))\n",
    "    print(\"Name of the paper is: {}\".format(paper_title))\n",
    "    print(page_url)"
   ]
  },
  {
   "cell_type": "markdown",
   "metadata": {
    "colab_type": "text",
    "id": "6uKMTvqphsMB"
   },
   "source": [
    "In some edge cases, the transition matrix above may not abide by the conditions algorithm requires. To account for those situations, there is a **damping factor** defined for the algorithm, which takes the weighted average of our transition matrix with a matrix of all ones. While transition matrix represents probabilities of going from one node to another, adding these damping factor will give us a chance to randomly go from any node to another."
   ]
  },
  {
   "cell_type": "code",
   "execution_count": 17,
   "metadata": {
    "colab": {},
    "colab_type": "code",
    "id": "fGFEyBBXOqZk"
   },
   "outputs": [],
   "source": [
    "def addDamping(transitionMatrix, labels, p = 0.15):\n",
    "    if(p < 0 or p > 1):\n",
    "        print(\"Please try again with a damping factor in interval [0,1].\")\n",
    "        return None\n",
    "    rankMatrix = (1 - p) * transitionMatrix + p * ((1/labels.size) * np.ones((labels.size,labels.size)))\n",
    "    return rankMatrix"
   ]
  },
  {
   "cell_type": "code",
   "execution_count": 18,
   "metadata": {
    "colab": {
     "base_uri": "https://localhost:8080/",
     "height": 86
    },
    "colab_type": "code",
    "id": "cKaBA9Bo-aoK",
    "outputId": "a4c225db-6c23-48a2-bd41-20825db61c85"
   },
   "outputs": [
    {
     "name": "stdout",
     "output_type": "stream",
     "text": [
      "Sums of columns that do not add to 1 in a reasonable error margin 1e-10 will be shown.\n",
      "Calculation finished, average value of sums of all columns is 0.9964444385253646.\n",
      "There are 627953481 elements in total, 0 of them are zero.\n",
      "Sparsity rate of this matrix is %0.0\n"
     ]
    }
   ],
   "source": [
    "rankMatrix = addDamping(rankMatrix, labels)\n",
    "checkStochastic(rankMatrix)\n",
    "sparsity = checkSparsity(rankMatrix)"
   ]
  },
  {
   "cell_type": "markdown",
   "metadata": {
    "colab_type": "text",
    "id": "lymvp22mT59Q"
   },
   "source": [
    "We see that while stochastic structure of the matrix holds, it is no longer a sparse matrix after adding damping factor. This is because now every node has the probability to go to any other node, even if this is a very small probability. So we do not have any 0 cells in our matrix anymore.\n",
    "\n",
    "Now, we will solve out matrix again."
   ]
  },
  {
   "cell_type": "code",
   "execution_count": 19,
   "metadata": {
    "colab": {
     "base_uri": "https://localhost:8080/",
     "height": 555
    },
    "colab_type": "code",
    "id": "viTCTkeqhJhe",
    "outputId": "04f1f0f1-a958-4898-911c-b715294e220f"
   },
   "outputs": [
    {
     "name": "stdout",
     "output_type": "stream",
     "text": [
      "Appropriate vector found in 30 iterations, final difference between two iteration result vectors was less than 1e-07.\n",
      "1. paper ID is 9201015.\n",
      "Name of the paper is: An Algorithm to Generate Classical Solutions for String Effective Action\n",
      "https://arxiv.org/abs/hep-th/9201015\n",
      "2. paper ID is 9207016.\n",
      "Name of the paper is: Noncompact Symmetries in String Theory\n",
      "https://arxiv.org/abs/hep-th/9207016\n",
      "3. paper ID is 9205071.\n",
      "Name of the paper is: Novel Symmetry of Non-Einsteinian Gravity in Two Dimensions\n",
      "https://arxiv.org/abs/hep-th/9205071\n",
      "4. paper ID is 209015.\n",
      "Name of the paper is: Advances in String Theory in Curved Space Times\n",
      "https://arxiv.org/abs/hep-th/0209015\n",
      "5. paper ID is 9202067.\n",
      "Name of the paper is: Stringy Domain Walls and Other Stringy Topological Defects\n",
      "https://arxiv.org/abs/hep-th/9202067\n",
      "6. paper ID is 9201047.\n",
      "Name of the paper is: Duality-Invariant Gaugino Condensation and One-Loop Corrected Kahler Potentials in String Theory\n",
      "https://arxiv.org/abs/hep-th/9201047\n",
      "7. paper ID is 9202018.\n",
      "Name of the paper is: Jones Polynomials for Intersecting Knots as Physical States of Quantum Gravity\n",
      "https://arxiv.org/abs/hep-th/9202018\n",
      "8. paper ID is 9205006.\n",
      "Name of the paper is: Stabilized Quantum Gravity: Stochastic Interpretation and Numerical Simulation\n",
      "https://arxiv.org/abs/hep-th/9205006\n",
      "9. paper ID is 9205038.\n",
      "Name of the paper is: Recent Developments in Classical and Quantum Theories of Connections, Including General Relativity\n",
      "https://arxiv.org/abs/hep-th/9205038\n",
      "10. paper ID is 9206048.\n",
      "Name of the paper is: Conformally Exact Results for SL(2,R)\\times SO(1,1)^{d-2}/SO(1,1) Coset Models\n",
      "https://arxiv.org/abs/hep-th/9206048\n"
     ]
    }
   ],
   "source": [
    "final = solveRank(rankMatrix)\n",
    "ranking = rankPagesDescending(labels, final)\n",
    "br = Browser()\n",
    "\n",
    "for index,paper_id in enumerate(ranking[0:10]):\n",
    "    str_id = str(paper_id)\n",
    "    page_url = \"https://arxiv.org/abs/hep-th/\"\n",
    "    while(len(str_id) < 7):\n",
    "        str_id = '0' + str_id\n",
    "    page_url += str_id\n",
    "    br.open(page_url)\n",
    "    paper_title = br.title()[17:]\n",
    "    print(\"{}. paper ID is {}.\".format(index + 1, paper_id))\n",
    "    print(\"Name of the paper is: {}\".format(paper_title))\n",
    "    print(page_url)"
   ]
  },
  {
   "cell_type": "markdown",
   "metadata": {
    "colab_type": "text",
    "id": "007Iac4dhVey"
   },
   "source": [
    "---"
   ]
  },
  {
   "cell_type": "markdown",
   "metadata": {
    "colab_type": "text",
    "id": "Nxjtf9EuvLgk"
   },
   "source": [
    "Since our dataset is very big, it is not easy to say if our algorithm correctly chooses the rankings. So we will test the same functions on a smaller dataset below, and we will compare the results with our expectation that will be computed by hand mathematically.\n"
   ]
  },
  {
   "cell_type": "code",
   "execution_count": 22,
   "metadata": {},
   "outputs": [],
   "source": [
    "def calculateRankVector(data, damping=False):\n",
    "    labels, weights = createWeights(data)\n",
    "    rankMatrix = createTransitionMatrix(data, labels, weights)\n",
    "    if damping:\n",
    "        rankMatrix = addDamping(rankMatrix, labels)\n",
    "    resultVector = solveRank(rankMatrix)\n",
    "    return resultVector"
   ]
  },
  {
   "cell_type": "code",
   "execution_count": 23,
   "metadata": {
    "colab": {
     "base_uri": "https://localhost:8080/",
     "height": 121
    },
    "colab_type": "code",
    "id": "Bmcbl1fiUb4K",
    "outputId": "f8ecc406-4e2d-4e33-f7ed-d12af44be35b"
   },
   "outputs": [
    {
     "name": "stdout",
     "output_type": "stream",
     "text": [
      "Appropriate vector found in 20 iterations, final difference between two iteration result vectors was less than 1e-07.\n",
      "['A' 'D' 'C' 'B']\n",
      "[[0.63395272]\n",
      " [0.34267715]\n",
      " [0.444879  ]\n",
      " [0.53175087]]\n"
     ]
    }
   ],
   "source": [
    "filename = \"testset.txt\" #Change the filename to test it with another file \n",
    "data = np.genfromtxt(filename, dtype = str)\n",
    "resultVector = calculateRankVector(data, damping=True)\n",
    "ranking = rankPagesDescending(labels, resultVector)\n",
    "print(ranking)\n",
    "print(resultVector.reshape(resultVector.size,1))"
   ]
  }
 ],
 "metadata": {
  "colab": {
   "collapsed_sections": [],
   "machine_shape": "hm",
   "name": "blg202hw2.ipynb",
   "provenance": [],
   "toc_visible": true
  },
  "kernelspec": {
   "display_name": "Python 3",
   "language": "python",
   "name": "python3"
  },
  "language_info": {
   "codemirror_mode": {
    "name": "ipython",
    "version": 3
   },
   "file_extension": ".py",
   "mimetype": "text/x-python",
   "name": "python",
   "nbconvert_exporter": "python",
   "pygments_lexer": "ipython3",
   "version": "3.6.9"
  }
 },
 "nbformat": 4,
 "nbformat_minor": 1
}
